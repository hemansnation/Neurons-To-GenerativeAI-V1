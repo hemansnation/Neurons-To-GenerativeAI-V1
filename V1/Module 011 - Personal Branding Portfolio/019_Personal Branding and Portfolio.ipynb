{
 "cells": [
  {
   "cell_type": "markdown",
   "id": "e950517b",
   "metadata": {},
   "source": [
    "## Table of Contents\n",
    "\n",
    "Resume Building\n",
    "\n",
    "Projects and Portfolio\n",
    "\n",
    "Career Transition to AI\n",
    "\n",
    "How to get a Job in AI or how to get promoted?\n",
    "\n",
    "How to start your freelance work?\n",
    "\n",
    "Data Engineer VS AI Product Manager, Which profile to choose?"
   ]
  },
  {
   "cell_type": "code",
   "execution_count": null,
   "id": "0ad17a50",
   "metadata": {},
   "outputs": [],
   "source": []
  },
  {
   "cell_type": "markdown",
   "id": "6d6f530a",
   "metadata": {},
   "source": [
    "Resume format \n",
    "\n",
    "https://docs.google.com/document/d/1-LhK5qFSfF_n3ncpFL6YbXZhBcQiwH0jPc_dDy864YA/edit?usp=sharing"
   ]
  },
  {
   "cell_type": "code",
   "execution_count": null,
   "id": "cc92c63a",
   "metadata": {},
   "outputs": [],
   "source": [
    "Work Experience\n",
    "Leadership Experience (if any)\n",
    "Live Projects\n",
    "Skills\n",
    "Education"
   ]
  },
  {
   "cell_type": "markdown",
   "id": "22d09c0f",
   "metadata": {},
   "source": [
    "## Projects/ Portfolio"
   ]
  },
  {
   "cell_type": "markdown",
   "id": "c1d12547",
   "metadata": {},
   "source": [
    "Work on you craft.\n",
    "\n",
    "1. Technical blogs (Posts on social media) - Newsletter(LinkedIn, BeeHiive, CovertKit, Medium)\n",
    "2. Projects - Live (Proof of Work) - [read.cv](http://read.cv) \n",
    "3. Certification - Google Cloud (ACE)\n",
    "4. Soft skills - Leadership, Talk, Session, NGO\n",
    "5. Story - Your Story\n",
    "6. Research Paper"
   ]
  },
  {
   "cell_type": "code",
   "execution_count": null,
   "id": "8948dfef",
   "metadata": {},
   "outputs": [],
   "source": [
    "20% = writing the blog\n",
    "80% = market the blog"
   ]
  },
  {
   "cell_type": "markdown",
   "id": "038405a6",
   "metadata": {},
   "source": [
    "## Personal Branding"
   ]
  },
  {
   "cell_type": "markdown",
   "id": "505b1974",
   "metadata": {},
   "source": [
    "https://www.linkedin.com/in/hemansnation/"
   ]
  },
  {
   "cell_type": "code",
   "execution_count": null,
   "id": "8cc3da80",
   "metadata": {},
   "outputs": [],
   "source": []
  },
  {
   "cell_type": "markdown",
   "id": "408d43be",
   "metadata": {},
   "source": [
    "## Career Transition to AI"
   ]
  },
  {
   "cell_type": "code",
   "execution_count": null,
   "id": "ee9b35b9",
   "metadata": {},
   "outputs": [],
   "source": [
    "- technology\n",
    "- niche\n",
    "    - domain\n",
    "    - industry\n",
    "    \n",
    "- GenerativeAI (Text data) in finance for stock market people"
   ]
  },
  {
   "cell_type": "code",
   "execution_count": null,
   "id": "e5507a96",
   "metadata": {},
   "outputs": [],
   "source": []
  },
  {
   "cell_type": "markdown",
   "id": "9d46288d",
   "metadata": {},
   "source": [
    "Job Details in current time 2024\n",
    "\n",
    "https://datanerd.tech/"
   ]
  },
  {
   "cell_type": "code",
   "execution_count": null,
   "id": "cc8beb09",
   "metadata": {},
   "outputs": [],
   "source": []
  },
  {
   "cell_type": "code",
   "execution_count": null,
   "id": "2caf63ad",
   "metadata": {},
   "outputs": [],
   "source": []
  },
  {
   "cell_type": "code",
   "execution_count": null,
   "id": "840d46cb",
   "metadata": {},
   "outputs": [],
   "source": []
  },
  {
   "cell_type": "code",
   "execution_count": null,
   "id": "4311d29b",
   "metadata": {},
   "outputs": [],
   "source": []
  },
  {
   "cell_type": "code",
   "execution_count": null,
   "id": "592c457b",
   "metadata": {},
   "outputs": [],
   "source": []
  },
  {
   "cell_type": "code",
   "execution_count": null,
   "id": "0014aba4",
   "metadata": {},
   "outputs": [],
   "source": []
  }
 ],
 "metadata": {
  "kernelspec": {
   "display_name": "Python 3 (ipykernel)",
   "language": "python",
   "name": "python3"
  },
  "language_info": {
   "codemirror_mode": {
    "name": "ipython",
    "version": 3
   },
   "file_extension": ".py",
   "mimetype": "text/x-python",
   "name": "python",
   "nbconvert_exporter": "python",
   "pygments_lexer": "ipython3",
   "version": "3.9.12"
  }
 },
 "nbformat": 4,
 "nbformat_minor": 5
}
