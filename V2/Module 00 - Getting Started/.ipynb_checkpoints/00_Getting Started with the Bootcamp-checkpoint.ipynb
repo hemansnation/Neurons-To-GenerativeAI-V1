{
 "cells": [
  {
   "cell_type": "markdown",
   "id": "03df40c8",
   "metadata": {},
   "source": [
    "# Getting Started\n",
    "\n",
    "- overview of the bootcamp\n",
    "- how we move forward\n",
    "- your responsibilities\n",
    "- actions to be taken daily\n",
    "- tools and resources needed\n"
   ]
  },
  {
   "cell_type": "code",
   "execution_count": 1,
   "id": "8c26668e",
   "metadata": {},
   "outputs": [
    {
     "name": "stdout",
     "output_type": "stream",
     "text": [
      "Hello World\n"
     ]
    }
   ],
   "source": [
    "print(\"Hello World\")"
   ]
  },
  {
   "cell_type": "markdown",
   "id": "29ef782d",
   "metadata": {},
   "source": [
    "## Roadmap: \n",
    "\n",
    "https://god-level-python.notion.site/Neurons-to-GenerativeAI-Bootcamp-Live-Self-paced-V2-a59ec2f641084c488179271fc077f0c4?pvs=4"
   ]
  },
  {
   "cell_type": "markdown",
   "id": "4c2cfaca",
   "metadata": {},
   "source": [
    "# Your Responsibilities\n",
    "\n",
    "## Daily action drill for profile building"
   ]
  },
  {
   "cell_type": "code",
   "execution_count": null,
   "id": "d46296a6",
   "metadata": {},
   "outputs": [],
   "source": [
    "- learning\n",
    "    - 4 hours of learning session everyday(deep work session)\n",
    "    - you cannot talk to anyone\n",
    "    - you can have coffee\n",
    "    - no phone\n",
    "    \n",
    "- you have to put your out there(personal brand/portfolio)\n",
    "    - "
   ]
  }
 ],
 "metadata": {
  "kernelspec": {
   "display_name": "Python 3 (ipykernel)",
   "language": "python",
   "name": "python3"
  },
  "language_info": {
   "codemirror_mode": {
    "name": "ipython",
    "version": 3
   },
   "file_extension": ".py",
   "mimetype": "text/x-python",
   "name": "python",
   "nbconvert_exporter": "python",
   "pygments_lexer": "ipython3",
   "version": "3.9.12"
  }
 },
 "nbformat": 4,
 "nbformat_minor": 5
}
