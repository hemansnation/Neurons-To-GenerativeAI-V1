{
 "cells": [
  {
   "cell_type": "markdown",
   "id": "258baeb1",
   "metadata": {},
   "source": [
    "# Getting Started\n",
    "\n",
    "- overview of the bootcamp\n",
    "- how we move forward\n",
    "- your responsibilities\n",
    "- actions to be taken daily\n",
    "- tools and resources needed\n"
   ]
  },
  {
   "cell_type": "code",
   "execution_count": 1,
   "id": "8ac53604",
   "metadata": {},
   "outputs": [
    {
     "name": "stdout",
     "output_type": "stream",
     "text": [
      "Hello World\n"
     ]
    }
   ],
   "source": [
    "print(\"Hello World\")"
   ]
  },
  {
   "cell_type": "markdown",
   "id": "fa1a79b2",
   "metadata": {},
   "source": [
    "## Roadmap: \n",
    "\n",
    "https://god-level-python.notion.site/Neurons-to-GenerativeAI-Bootcamp-Live-Self-paced-V2-a59ec2f641084c488179271fc077f0c4?pvs=4"
   ]
  },
  {
   "cell_type": "markdown",
   "id": "709c61b0",
   "metadata": {},
   "source": [
    "# Your Responsibilities\n",
    "\n",
    "## Daily action drill for profile building"
   ]
  },
  {
   "cell_type": "code",
   "execution_count": null,
   "id": "21c19355",
   "metadata": {},
   "outputs": [],
   "source": [
    "- learning\n",
    "    - 4 hours of learning session everyday(deep work session)\n",
    "    - you cannot talk to anyone\n",
    "    - you can have coffee\n",
    "    - no phone\n",
    "    \n",
    "- you have to put your out there(personal brand/portfolio)\n",
    "    - blog (medium)\n",
    "    - build projects and share it with your network (linkedin)\n",
    "    - code on github\n",
    "    - deployment (code in production -> live)\n",
    "    - focus on one platform - linkedin"
   ]
  },
  {
   "cell_type": "code",
   "execution_count": null,
   "id": "2d4149e6",
   "metadata": {},
   "outputs": [],
   "source": [
    "the skills you got after learning\n",
    "\n",
    "- to know which algo or llm to use\n"
   ]
  },
  {
   "cell_type": "markdown",
   "id": "b173e0c9",
   "metadata": {},
   "source": [
    "https://newsletter.himanshuramchandani.co/p/how-to-transition-your-career-in-ai-7-step-portfolio-guide"
   ]
  },
  {
   "cell_type": "code",
   "execution_count": null,
   "id": "b0492a6a",
   "metadata": {},
   "outputs": [],
   "source": []
  },
  {
   "cell_type": "code",
   "execution_count": null,
   "id": "29491d31",
   "metadata": {},
   "outputs": [],
   "source": []
  }
 ],
 "metadata": {
  "kernelspec": {
   "display_name": "Python 3 (ipykernel)",
   "language": "python",
   "name": "python3"
  },
  "language_info": {
   "codemirror_mode": {
    "name": "ipython",
    "version": 3
   },
   "file_extension": ".py",
   "mimetype": "text/x-python",
   "name": "python",
   "nbconvert_exporter": "python",
   "pygments_lexer": "ipython3",
   "version": "3.9.12"
  }
 },
 "nbformat": 4,
 "nbformat_minor": 5
}
