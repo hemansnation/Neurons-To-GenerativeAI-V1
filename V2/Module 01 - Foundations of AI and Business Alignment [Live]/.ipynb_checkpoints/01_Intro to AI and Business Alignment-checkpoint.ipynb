{
 "cells": [
  {
   "cell_type": "markdown",
   "id": "adb898a6",
   "metadata": {},
   "source": [
    "# Foundations of AI and Business Alignment [Live]\n",
    "\n",
    "1.1 → Introduction to AI and its Evolution [2 Hours]\n",
    "\n",
    "1.2 → AI vs ML vs DL vs GenAI vs LLM vs ChatGPT\n",
    "\n",
    "1.3 → 25 Papers That Completely Transformed the Computer World\n",
    "\n",
    "1.4 → AI Maturity Model\n",
    "\n",
    "1.5 → How AI creates Business value?\n",
    "\n",
    "1.6 → How to assess AI initiatives?\n",
    "\n",
    "1.7 → ROI Estimation & Value Metric\n",
    "\n",
    "Resources\n",
    "\n",
    "AI Maturity Model Checklist\n",
    "\n",
    "AI Readiness Assessment Template"
   ]
  },
  {
   "cell_type": "code",
   "execution_count": null,
   "id": "3432047a",
   "metadata": {},
   "outputs": [],
   "source": []
  },
  {
   "cell_type": "markdown",
   "id": "3992b574",
   "metadata": {},
   "source": [
    "## 1.1 → Introduction to AI and its Evolution [2 Hours]\n",
    "\n"
   ]
  },
  {
   "cell_type": "code",
   "execution_count": null,
   "id": "a99f09ad",
   "metadata": {},
   "outputs": [],
   "source": []
  },
  {
   "cell_type": "code",
   "execution_count": null,
   "id": "b80831a2",
   "metadata": {},
   "outputs": [],
   "source": []
  },
  {
   "cell_type": "markdown",
   "id": "09b996f4",
   "metadata": {},
   "source": [
    "## 1.2 → AI vs ML vs DL vs GenAI vs LLM vs ChatGPT\n"
   ]
  },
  {
   "cell_type": "code",
   "execution_count": null,
   "id": "cec4bd56",
   "metadata": {},
   "outputs": [],
   "source": [
    "Machine Learning\n",
    "\n",
    "- feature engineering\n",
    "- structed data - tabular, relational db\n",
    "- domain knowledge for design features\n",
    "- "
   ]
  },
  {
   "cell_type": "code",
   "execution_count": null,
   "id": "7bdeffa4",
   "metadata": {},
   "outputs": [],
   "source": [
    "Deep Learning"
   ]
  },
  {
   "cell_type": "markdown",
   "id": "22f6a3cd",
   "metadata": {},
   "source": [
    "## 1.3 → 25 Papers That Completely Transformed the Computer World\n"
   ]
  },
  {
   "cell_type": "code",
   "execution_count": null,
   "id": "2a4bb10c",
   "metadata": {},
   "outputs": [],
   "source": []
  },
  {
   "cell_type": "code",
   "execution_count": null,
   "id": "1f456382",
   "metadata": {},
   "outputs": [],
   "source": []
  },
  {
   "cell_type": "markdown",
   "id": "21423a38",
   "metadata": {},
   "source": [
    "## 1.4 → AI Maturity Model"
   ]
  },
  {
   "cell_type": "code",
   "execution_count": null,
   "id": "5fa880b0",
   "metadata": {},
   "outputs": [],
   "source": []
  },
  {
   "cell_type": "code",
   "execution_count": null,
   "id": "911b979d",
   "metadata": {},
   "outputs": [],
   "source": []
  },
  {
   "cell_type": "markdown",
   "id": "031a2d02",
   "metadata": {},
   "source": [
    "## 1.5 → How AI creates Business value?\n"
   ]
  },
  {
   "cell_type": "code",
   "execution_count": null,
   "id": "8df5aa8a",
   "metadata": {},
   "outputs": [],
   "source": []
  },
  {
   "cell_type": "code",
   "execution_count": null,
   "id": "6ecd91de",
   "metadata": {},
   "outputs": [],
   "source": []
  },
  {
   "cell_type": "markdown",
   "id": "c7ac43df",
   "metadata": {},
   "source": [
    "## 1.6 → How to assess AI initiatives?\n",
    "\n",
    "AI Maturity Model Checklist"
   ]
  },
  {
   "cell_type": "code",
   "execution_count": null,
   "id": "8970299a",
   "metadata": {},
   "outputs": [],
   "source": []
  },
  {
   "cell_type": "code",
   "execution_count": null,
   "id": "c20134e1",
   "metadata": {},
   "outputs": [],
   "source": []
  },
  {
   "cell_type": "markdown",
   "id": "7c97ee66",
   "metadata": {},
   "source": [
    "AI Readiness Assessment Template"
   ]
  },
  {
   "cell_type": "code",
   "execution_count": null,
   "id": "08b0b218",
   "metadata": {},
   "outputs": [],
   "source": []
  },
  {
   "cell_type": "code",
   "execution_count": null,
   "id": "c72eea58",
   "metadata": {},
   "outputs": [],
   "source": []
  },
  {
   "cell_type": "markdown",
   "id": "07b39965",
   "metadata": {},
   "source": [
    "## 1.7 → ROI Estimation & Value Metric\n"
   ]
  },
  {
   "cell_type": "code",
   "execution_count": null,
   "id": "f34e3e5d",
   "metadata": {},
   "outputs": [],
   "source": []
  },
  {
   "cell_type": "code",
   "execution_count": null,
   "id": "6fb0941c",
   "metadata": {},
   "outputs": [],
   "source": []
  }
 ],
 "metadata": {
  "kernelspec": {
   "display_name": "Python 3 (ipykernel)",
   "language": "python",
   "name": "python3"
  },
  "language_info": {
   "codemirror_mode": {
    "name": "ipython",
    "version": 3
   },
   "file_extension": ".py",
   "mimetype": "text/x-python",
   "name": "python",
   "nbconvert_exporter": "python",
   "pygments_lexer": "ipython3",
   "version": "3.9.12"
  }
 },
 "nbformat": 4,
 "nbformat_minor": 5
}
