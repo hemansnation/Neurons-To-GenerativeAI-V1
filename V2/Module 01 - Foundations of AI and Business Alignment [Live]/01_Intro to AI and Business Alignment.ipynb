{
 "cells": [
  {
   "cell_type": "markdown",
   "id": "f9699d39",
   "metadata": {},
   "source": [
    "# Foundations of AI and Business Alignment [Live]\n",
    "\n",
    "1.1 → Introduction to AI and its Evolution [2 Hours]\n",
    "\n",
    "1.2 → AI vs ML vs DL vs GenAI vs LLM vs ChatGPT\n",
    "\n",
    "1.3 → 25 Papers That Completely Transformed the Computer World\n",
    "\n",
    "1.4 → AI Maturity Model\n",
    "\n",
    "1.5 → How AI creates Business value?\n",
    "\n",
    "1.6 → How to assess AI initiatives?\n",
    "\n",
    "1.7 → ROI Estimation & Value Metric\n",
    "\n",
    "Resources\n",
    "\n",
    "AI Maturity Model Checklist\n",
    "\n",
    "AI Readiness Assessment Template"
   ]
  },
  {
   "cell_type": "code",
   "execution_count": null,
   "id": "af741181",
   "metadata": {},
   "outputs": [],
   "source": []
  },
  {
   "cell_type": "markdown",
   "id": "01d06655",
   "metadata": {},
   "source": [
    "## 1.1 → Introduction to AI and its Evolution [2 Hours]\n",
    "\n"
   ]
  },
  {
   "cell_type": "code",
   "execution_count": null,
   "id": "cf6667ae",
   "metadata": {},
   "outputs": [],
   "source": []
  },
  {
   "cell_type": "code",
   "execution_count": null,
   "id": "1bc48a88",
   "metadata": {},
   "outputs": [],
   "source": []
  },
  {
   "cell_type": "markdown",
   "id": "238f13ff",
   "metadata": {},
   "source": [
    "## 1.2 → AI vs ML vs DL vs GenAI vs LLM vs ChatGPT\n"
   ]
  },
  {
   "cell_type": "code",
   "execution_count": null,
   "id": "44254177",
   "metadata": {},
   "outputs": [],
   "source": [
    "Machine Learning\n",
    "\n",
    "- feature engineering\n",
    "- structed data - tabular, relational db\n",
    "- domain knowledge for design features\n",
    "- can be trained on small data\n",
    "- CPUs"
   ]
  },
  {
   "cell_type": "code",
   "execution_count": null,
   "id": "f667e625",
   "metadata": {},
   "outputs": [],
   "source": [
    "Deep Learning\n",
    "\n",
    "- do not need feature engineering\n",
    "- unstructred data - images, videos, audio, text\n",
    "- minimize the need of manual feature engineering\n",
    "- need large amount of data to perform well\n",
    "- GPUs and TPUs\n",
    "- it consider black box and harder to explain how it come up with the prediction\n",
    "\n",
    "explainable AI - https://www.linkedin.com/in/tom-yeh/"
   ]
  },
  {
   "cell_type": "code",
   "execution_count": null,
   "id": "0f73f080",
   "metadata": {},
   "outputs": [],
   "source": [
    "GenerativeAI\n",
    "\n",
    "- structured and unstructred data\n",
    "- prompt engineering - (DSpy)- https://dspy.ai/\n",
    "- AI agents\n",
    "- GPU and TPU"
   ]
  },
  {
   "cell_type": "markdown",
   "id": "181f0385",
   "metadata": {},
   "source": [
    "Google Willow Chip: https://indianexpress.com/article/technology/tech-news-technology/google-willow-chip-future-of-quantum-computing-ai-encryption-9718192/\n",
    "\n",
    "How ChatGPT Works: https://newsletter.himanshuramchandani.co/p/how-does-chatgpt-work-detailed-analysis-insights"
   ]
  },
  {
   "cell_type": "markdown",
   "id": "678d3175",
   "metadata": {},
   "source": [
    "## 1.3 → 25 Papers That Completely Transformed the Computer World\n"
   ]
  },
  {
   "cell_type": "code",
   "execution_count": null,
   "id": "eccc1086",
   "metadata": {},
   "outputs": [],
   "source": [
    "Paper Unfold\n",
    "\n",
    "Attention is ALL you need: https://arxiv.org/abs/1706.03762"
   ]
  },
  {
   "cell_type": "code",
   "execution_count": null,
   "id": "f4ba95f8",
   "metadata": {},
   "outputs": [],
   "source": []
  },
  {
   "cell_type": "markdown",
   "id": "661b7d7f",
   "metadata": {},
   "source": [
    "## 1.4 → AI Maturity Model"
   ]
  },
  {
   "cell_type": "code",
   "execution_count": null,
   "id": "96c0adbf",
   "metadata": {},
   "outputs": [],
   "source": [
    "https://newsletter.himanshuramchandani.co/p/how-to-evaluate-your-business-for-ai-success"
   ]
  },
  {
   "cell_type": "code",
   "execution_count": null,
   "id": "06a04b2e",
   "metadata": {},
   "outputs": [],
   "source": []
  },
  {
   "cell_type": "markdown",
   "id": "d017dc38",
   "metadata": {},
   "source": [
    "## 1.5 → How AI creates Business value?\n"
   ]
  },
  {
   "cell_type": "code",
   "execution_count": null,
   "id": "3e671dc4",
   "metadata": {},
   "outputs": [],
   "source": []
  },
  {
   "cell_type": "code",
   "execution_count": null,
   "id": "aabcd769",
   "metadata": {},
   "outputs": [],
   "source": []
  },
  {
   "cell_type": "markdown",
   "id": "627ae9eb",
   "metadata": {},
   "source": [
    "## 1.6 → How to assess AI initiatives?\n",
    "\n",
    "AI Maturity Model Checklist"
   ]
  },
  {
   "cell_type": "code",
   "execution_count": null,
   "id": "5e98401f",
   "metadata": {},
   "outputs": [],
   "source": []
  },
  {
   "cell_type": "code",
   "execution_count": null,
   "id": "4a9ebcd9",
   "metadata": {},
   "outputs": [],
   "source": []
  },
  {
   "cell_type": "markdown",
   "id": "35b8b5ad",
   "metadata": {},
   "source": [
    "AI Readiness Assessment Template"
   ]
  },
  {
   "cell_type": "code",
   "execution_count": null,
   "id": "a8ad2dce",
   "metadata": {},
   "outputs": [],
   "source": []
  },
  {
   "cell_type": "code",
   "execution_count": null,
   "id": "9032aeed",
   "metadata": {},
   "outputs": [],
   "source": []
  },
  {
   "cell_type": "markdown",
   "id": "aaa5e92b",
   "metadata": {},
   "source": [
    "## 1.7 → ROI Estimation & Value Metric\n"
   ]
  },
  {
   "cell_type": "code",
   "execution_count": null,
   "id": "a2c14b36",
   "metadata": {},
   "outputs": [],
   "source": []
  },
  {
   "cell_type": "code",
   "execution_count": null,
   "id": "2a7ef75e",
   "metadata": {},
   "outputs": [],
   "source": []
  }
 ],
 "metadata": {
  "kernelspec": {
   "display_name": "Python 3 (ipykernel)",
   "language": "python",
   "name": "python3"
  },
  "language_info": {
   "codemirror_mode": {
    "name": "ipython",
    "version": 3
   },
   "file_extension": ".py",
   "mimetype": "text/x-python",
   "name": "python",
   "nbconvert_exporter": "python",
   "pygments_lexer": "ipython3",
   "version": "3.9.12"
  }
 },
 "nbformat": 4,
 "nbformat_minor": 5
}
